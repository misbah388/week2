{
 "cells": [
  {
   "cell_type": "markdown",
   "id": "d3c1ad71",
   "metadata": {},
   "source": [
    "# Q.No.1"
   ]
  },
  {
   "cell_type": "code",
   "execution_count": 2,
   "id": "d9925b51",
   "metadata": {},
   "outputs": [
    {
     "name": "stdout",
     "output_type": "stream",
     "text": [
      "*\n",
      "**\n",
      "***\n",
      "****\n",
      "*****\n"
     ]
    }
   ],
   "source": [
    "N=\"*\\n**\\n***\\n****\\n*****\"\n",
    "print(N)"
   ]
  },
  {
   "cell_type": "code",
   "execution_count": 29,
   "id": "76037540",
   "metadata": {},
   "outputs": [
    {
     "name": "stdout",
     "output_type": "stream",
     "text": [
      "    *\n",
      "   **\n",
      "  ***\n",
      " ****\n",
      "*****\n"
     ]
    }
   ],
   "source": [
    "N=\"    *\\n   **\\n  ***\\n ****\\n*****\"\n",
    "print(N)"
   ]
  },
  {
   "cell_type": "markdown",
   "id": "30a04d16",
   "metadata": {},
   "source": [
    "# Q.No.2"
   ]
  },
  {
   "cell_type": "code",
   "execution_count": 7,
   "id": "43b64495",
   "metadata": {},
   "outputs": [
    {
     "name": "stdout",
     "output_type": "stream",
     "text": [
      "55\n"
     ]
    }
   ],
   "source": [
    "def suma(num1,num2,num3,num4,num5,num6,num7,num8,num9,num10):\n",
    "    ans=(num1+num2+num3+num4+num5+num6+num7+num8+num9+num10)\n",
    "    return ans\n",
    "print(suma(1,2,3,4,5,6,7,8,9,10))\n"
   ]
  },
  {
   "cell_type": "markdown",
   "id": "5fe61d76",
   "metadata": {},
   "source": [
    "# Q.No.3"
   ]
  },
  {
   "cell_type": "code",
   "execution_count": 18,
   "id": "e3a41b35",
   "metadata": {},
   "outputs": [
    {
     "name": "stdout",
     "output_type": "stream",
     "text": [
      "1\n",
      "2\n",
      "3\n",
      "4\n",
      "5\n",
      "6\n",
      "7\n",
      "8\n",
      "9\n",
      "10\n"
     ]
    }
   ],
   "source": [
    "x=0\n",
    "for x in range(10):\n",
    "    print(x+1)\n",
    "\n",
    "   "
   ]
  },
  {
   "cell_type": "markdown",
   "id": "b58282b9",
   "metadata": {},
   "source": [
    "# Q.No.4"
   ]
  },
  {
   "cell_type": "code",
   "execution_count": 43,
   "id": "a656e09c",
   "metadata": {},
   "outputs": [
    {
     "name": "stdout",
     "output_type": "stream",
     "text": [
      "Enter your number==> 4\n",
      "4 X 1 = 4\n",
      "4 X 2 = 8\n",
      "4 X 3 = 12\n",
      "4 X 4 = 16\n",
      "4 X 5 = 20\n",
      "4 X 6 = 24\n",
      "4 X 7 = 28\n",
      "4 X 8 = 32\n",
      "4 X 9 = 36\n",
      "4 X 10 = 40\n"
     ]
    }
   ],
   "source": [
    "Num=int(input(\"Enter your number==> \"))\n",
    "x=0\n",
    "for x in range(10):\n",
    "    print(Num,\"X\",x+1,\"=\",Num*x+Num)\n",
    "\n"
   ]
  },
  {
   "cell_type": "markdown",
   "id": "77b02ce7",
   "metadata": {},
   "source": [
    "# Q.No.5\n"
   ]
  },
  {
   "cell_type": "code",
   "execution_count": 23,
   "id": "6bdebbfd",
   "metadata": {},
   "outputs": [
    {
     "name": "stdout",
     "output_type": "stream",
     "text": [
      "1\n",
      "2\n",
      "6\n",
      "24\n",
      "120\n",
      "120\n"
     ]
    }
   ],
   "source": [
    "def Fur(N):\n",
    "    ans=N*(N-1)*(N-2)*(N-3)*(N-4)\n",
    "    return ans\n",
    "n=1\n",
    "for x in range(5):\n",
    "    n=n*(x+1)\n",
    "    \n",
    "    \n",
    "    print(n)\n",
    "print(Fur(Num))\n",
    "\n",
    "\n",
    "\n",
    "\n"
   ]
  },
  {
   "cell_type": "code",
   "execution_count": 40,
   "id": "1a33ec74",
   "metadata": {},
   "outputs": [
    {
     "name": "stdout",
     "output_type": "stream",
     "text": [
      "20\n",
      "60\n",
      "120\n",
      "120\n",
      "0\n"
     ]
    }
   ],
   "source": [
    "Num=5\n",
    "Y=Num\n",
    "while (Num>0):\n",
    "    #print(Num)\n",
    "    Y=Y*(Num-1)\n",
    "    Num=Num-1\n",
    "\n",
    "    print(Y)"
   ]
  },
  {
   "cell_type": "markdown",
   "id": "084204fa",
   "metadata": {},
   "source": [
    "# Q.No.6"
   ]
  },
  {
   "cell_type": "code",
   "execution_count": 49,
   "id": "8f0090cd",
   "metadata": {},
   "outputs": [
    {
     "name": "stdout",
     "output_type": "stream",
     "text": [
      "Enter your 1st Number==>  5\n",
      "Enter your 2nd Number==>  3\n",
      "The answer is=====>  125\n"
     ]
    }
   ],
   "source": [
    "def power(Num1,Num2):\n",
    "    \n",
    "    Y=1\n",
    "    for x in range(Num2):\n",
    "        ans=Y*Num1\n",
    "        Y=ans\n",
    "    return  ans\n",
    "Num1=int(input(\"Enter your 1st Number==>  \"))\n",
    "Num2=int(input(\"Enter your 2nd Number==>  \"))\n",
    "print(\"The answer is=====> \",power(Num1,Num2))\n"
   ]
  },
  {
   "cell_type": "markdown",
   "id": "292d097e",
   "metadata": {},
   "source": [
    "# Q.No.7"
   ]
  },
  {
   "cell_type": "code",
   "execution_count": 3,
   "id": "7345bf46",
   "metadata": {},
   "outputs": [
    {
     "name": "stdout",
     "output_type": "stream",
     "text": [
      "**********\n",
      "**********\n",
      "**********\n",
      "**********\n"
     ]
    }
   ],
   "source": [
    "for x in range(4):\n",
    "    print(\"**********\")"
   ]
  },
  {
   "cell_type": "code",
   "execution_count": 34,
   "id": "7d204c5b",
   "metadata": {},
   "outputs": [
    {
     "name": "stdout",
     "output_type": "stream",
     "text": [
      "*\n",
      "**\n",
      "***\n",
      "****\n",
      "*****\n"
     ]
    }
   ],
   "source": [
    "num=[1,2,3,4,5]\n",
    "for x_items in num:\n",
    "    print(\"*\" * x_items)"
   ]
  },
  {
   "cell_type": "code",
   "execution_count": 32,
   "id": "8cbce0bf",
   "metadata": {},
   "outputs": [
    {
     "name": "stdout",
     "output_type": "stream",
     "text": [
      "xxxxxxx\n",
      "xx\n",
      "xxxxxxx\n",
      "xx\n",
      "xx\n"
     ]
    }
   ],
   "source": [
    "numbers=[7, 2, 7, 2, 2]\n",
    "for x_item in numbers:\n",
    "    print(\"x\" * x_item)"
   ]
  },
  {
   "cell_type": "code",
   "execution_count": 46,
   "id": "f63761ae",
   "metadata": {},
   "outputs": [
    {
     "name": "stdout",
     "output_type": "stream",
     "text": [
      "  *\n",
      "  ***\n",
      "  *****\n",
      "  *******\n"
     ]
    }
   ],
   "source": [
    "num=[1,3,5,7]\n",
    "for x_items in num:\n",
    "    print(\" \",\"*\"* x_items)"
   ]
  },
  {
   "cell_type": "code",
   "execution_count": 14,
   "id": "0874033d",
   "metadata": {},
   "outputs": [
    {
     "name": "stdout",
     "output_type": "stream",
     "text": [
      "  1\n",
      "  222\n",
      "  33333\n",
      "  4444444\n",
      "  555555555\n"
     ]
    }
   ],
   "source": [
    "Num=[1,222,33333,4444444,555555555]\n",
    "for item in Num:\n",
    "    print(\" \", item)"
   ]
  },
  {
   "cell_type": "code",
   "execution_count": 2,
   "id": "fb296668",
   "metadata": {},
   "outputs": [
    {
     "name": "stdout",
     "output_type": "stream",
     "text": [
      "    *    \n",
      "   ***   \n",
      "  *****  \n",
      " ******* \n"
     ]
    }
   ],
   "source": [
    "N=\"    *    \\n   ***   \\n  *****  \\n ******* \"\n",
    "print(N)"
   ]
  },
  {
   "cell_type": "code",
   "execution_count": null,
   "id": "32124650",
   "metadata": {},
   "outputs": [],
   "source": []
  }
 ],
 "metadata": {
  "kernelspec": {
   "display_name": "Python 3 (ipykernel)",
   "language": "python",
   "name": "python3"
  },
  "language_info": {
   "codemirror_mode": {
    "name": "ipython",
    "version": 3
   },
   "file_extension": ".py",
   "mimetype": "text/x-python",
   "name": "python",
   "nbconvert_exporter": "python",
   "pygments_lexer": "ipython3",
   "version": "3.9.7"
  }
 },
 "nbformat": 4,
 "nbformat_minor": 5
}
